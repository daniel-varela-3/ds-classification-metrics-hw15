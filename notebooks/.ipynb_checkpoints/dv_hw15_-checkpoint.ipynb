{
 "cells": [
  {
   "cell_type": "markdown",
   "id": "e75990f5-ac7d-479b-b732-12b0db600be4",
   "metadata": {},
   "source": [
    "# Title Pending - HW15 - Classification Analysis"
   ]
  },
  {
   "cell_type": "markdown",
   "id": "55e8d379-af8a-4e28-827c-be158350ee44",
   "metadata": {},
   "source": [
    "make something similar to the GoT hw... except this time refine it / use concepts from latest lecture.\n",
    "\n",
    "Potential data sets to use:\n",
    "- cancelled flights?\n",
    "- dog adoption?\n",
    "- movie rating -- fresh vs rotten\n",
    "- "
   ]
  }
 ],
 "metadata": {
  "kernelspec": {
   "display_name": "default:Python",
   "language": "python",
   "name": "conda-env-default-py"
  },
  "language_info": {
   "codemirror_mode": {
    "name": "ipython",
    "version": 3
   },
   "file_extension": ".py",
   "mimetype": "text/x-python",
   "name": "python",
   "nbconvert_exporter": "python",
   "pygments_lexer": "ipython3",
   "version": "3.9.13"
  }
 },
 "nbformat": 4,
 "nbformat_minor": 5
}
